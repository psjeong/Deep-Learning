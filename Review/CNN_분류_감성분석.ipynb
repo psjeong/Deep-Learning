{
 "cells": [
  {
   "cell_type": "code",
   "execution_count": 2,
   "id": "ec1c5380-5ea5-41ee-95ab-4c59488eeb42",
   "metadata": {},
   "outputs": [],
   "source": [
    "import tensorflow as tf\n",
    "from tensorflow.keras import datasets, layers, models, preprocessing\n",
    "import tensorflow_datasets as tfds\n",
    "\n",
    "max_len = 200\n",
    "n_words = 10000\n",
    "dim_embedding = 256\n",
    "EPOCHS = 20\n",
    "BATCH_SIZE =500\n",
    "\n",
    "def load_data():\n",
    "\t#load data\n",
    "\t(X_train, y_train), (X_test, y_test) = datasets.imdb.load_data(num_words=n_words)\n",
    "\t# Pad sequences with max_len\n",
    "\tX_train = preprocessing.sequence.pad_sequences(X_train, maxlen=max_len)\n",
    "\tX_test = preprocessing.sequence.pad_sequences(X_test, maxlen=max_len)\n",
    "\treturn (X_train, y_train), (X_test, y_test)\n",
    "\n",
    "def build_model():\n",
    "\tmodel = models.Sequential()\n",
    "\t#Input - Emedding Layer\n",
    "\t# the model will take as input an integer matrix of size (batch, input_length)\n",
    "\t# the model will output dimension (input_length, dim_embedding)\n",
    "    # the largest integer in the input should be no larger\n",
    "    # than n_words (vocabulary size).\n",
    "\tmodel.add(layers.Embedding(n_words, \n",
    "\t\tdim_embedding, input_length=max_len))\n",
    "\n",
    "\tmodel.add(layers.Dropout(0.3))\n",
    "\n",
    "\tmodel.add(layers.Conv1D(256, 3, padding='valid', \n",
    "\t\tactivation='relu'))\n",
    "\n",
    "\t#takes the maximum value of either feature vector from each of the n_words features\n",
    "\tmodel.add(layers.GlobalMaxPooling1D())\n",
    "\tmodel.add(layers.Dense(128, activation='relu'))\n",
    "\tmodel.add(layers.Dropout(0.5))\n",
    "\tmodel.add(layers.Dense(1, activation='sigmoid'))\n",
    "\n",
    "\treturn model\n",
    "\n"
   ]
  },
  {
   "cell_type": "code",
   "execution_count": 3,
   "id": "6335f1fe",
   "metadata": {},
   "outputs": [
    {
     "name": "stdout",
     "output_type": "stream",
     "text": [
      "Downloading data from https://storage.googleapis.com/tensorflow/tf-keras-datasets/imdb.npz\n",
      "17464789/17464789 [==============================] - 2s 0us/step\n"
     ]
    }
   ],
   "source": [
    "(X_train, y_train), (X_test, y_test) = datasets.imdb.load_data(num_words=n_words)"
   ]
  },
  {
   "cell_type": "code",
   "execution_count": 4,
   "id": "36af8a42-5fd1-4571-bcd0-60b48a821560",
   "metadata": {},
   "outputs": [
    {
     "name": "stdout",
     "output_type": "stream",
     "text": [
      "Downloading data from https://storage.googleapis.com/tensorflow/tf-keras-datasets/imdb.npz\n",
      "17464789/17464789 [==============================] - 1s 0us/step\n",
      "Model: \"sequential\"\n",
      "_________________________________________________________________\n",
      " Layer (type)                Output Shape              Param #   \n",
      "=================================================================\n",
      " embedding (Embedding)       (None, 200, 256)          2560000   \n",
      "                                                                 \n",
      " dropout (Dropout)           (None, 200, 256)          0         \n",
      "                                                                 \n",
      " conv1d (Conv1D)             (None, 198, 256)          196864    \n",
      "                                                                 \n",
      " global_max_pooling1d (Globa  (None, 256)              0         \n",
      " lMaxPooling1D)                                                  \n",
      "                                                                 \n",
      " dense (Dense)               (None, 128)               32896     \n",
      "                                                                 \n",
      " dropout_1 (Dropout)         (None, 128)               0         \n",
      "                                                                 \n",
      " dense_1 (Dense)             (None, 1)                 129       \n",
      "                                                                 \n",
      "=================================================================\n",
      "Total params: 2,789,889\n",
      "Trainable params: 2,789,889\n",
      "Non-trainable params: 0\n",
      "_________________________________________________________________\n",
      "Epoch 1/20\n",
      "50/50 [==============================] - 104s 2s/step - loss: 0.6444 - accuracy: 0.6400 - val_loss: 0.5014 - val_accuracy: 0.7768\n",
      "Epoch 2/20\n",
      "50/50 [==============================] - 102s 2s/step - loss: 0.3842 - accuracy: 0.8314 - val_loss: 0.3036 - val_accuracy: 0.8703\n",
      "Epoch 3/20\n",
      "50/50 [==============================] - 84s 2s/step - loss: 0.2374 - accuracy: 0.9060 - val_loss: 0.2636 - val_accuracy: 0.8897\n",
      "Epoch 4/20\n",
      "50/50 [==============================] - 84s 2s/step - loss: 0.1576 - accuracy: 0.9419 - val_loss: 0.2813 - val_accuracy: 0.8849\n",
      "Epoch 5/20\n",
      "50/50 [==============================] - 83s 2s/step - loss: 0.0940 - accuracy: 0.9710 - val_loss: 0.2834 - val_accuracy: 0.8898\n",
      "Epoch 6/20\n",
      "50/50 [==============================] - 84s 2s/step - loss: 0.0490 - accuracy: 0.9891 - val_loss: 0.3114 - val_accuracy: 0.8891\n",
      "Epoch 7/20\n",
      "50/50 [==============================] - 81s 2s/step - loss: 0.0251 - accuracy: 0.9960 - val_loss: 0.3452 - val_accuracy: 0.8869\n",
      "Epoch 8/20\n",
      "50/50 [==============================] - 81s 2s/step - loss: 0.0137 - accuracy: 0.9986 - val_loss: 0.3778 - val_accuracy: 0.8865\n",
      "Epoch 9/20\n",
      "50/50 [==============================] - 81s 2s/step - loss: 0.0088 - accuracy: 0.9992 - val_loss: 0.3998 - val_accuracy: 0.8868\n",
      "Epoch 10/20\n",
      "50/50 [==============================] - 79s 2s/step - loss: 0.0056 - accuracy: 0.9996 - val_loss: 0.4217 - val_accuracy: 0.8862\n",
      "Epoch 11/20\n",
      "50/50 [==============================] - 79s 2s/step - loss: 0.0037 - accuracy: 0.9998 - val_loss: 0.4475 - val_accuracy: 0.8850\n",
      "Epoch 12/20\n",
      "50/50 [==============================] - 88s 2s/step - loss: 0.0027 - accuracy: 1.0000 - val_loss: 0.4655 - val_accuracy: 0.8834\n",
      "Epoch 13/20\n",
      "50/50 [==============================] - 81s 2s/step - loss: 0.0023 - accuracy: 0.9998 - val_loss: 0.4808 - val_accuracy: 0.8834\n",
      "Epoch 14/20\n",
      "50/50 [==============================] - 78s 2s/step - loss: 0.0017 - accuracy: 0.9999 - val_loss: 0.4925 - val_accuracy: 0.8843\n",
      "Epoch 15/20\n",
      "50/50 [==============================] - 78s 2s/step - loss: 0.0013 - accuracy: 1.0000 - val_loss: 0.5058 - val_accuracy: 0.8839\n",
      "Epoch 16/20\n",
      "50/50 [==============================] - 78s 2s/step - loss: 0.0013 - accuracy: 1.0000 - val_loss: 0.5173 - val_accuracy: 0.8848\n",
      "Epoch 17/20\n",
      "50/50 [==============================] - 83s 2s/step - loss: 0.0010 - accuracy: 1.0000 - val_loss: 0.5279 - val_accuracy: 0.8837\n",
      "Epoch 18/20\n",
      "50/50 [==============================] - 76s 2s/step - loss: 8.6269e-04 - accuracy: 1.0000 - val_loss: 0.5387 - val_accuracy: 0.8845\n",
      "Epoch 19/20\n",
      "50/50 [==============================] - 78s 2s/step - loss: 8.5830e-04 - accuracy: 1.0000 - val_loss: 0.5466 - val_accuracy: 0.8832\n",
      "Epoch 20/20\n",
      "50/50 [==============================] - 76s 2s/step - loss: 6.8806e-04 - accuracy: 1.0000 - val_loss: 0.5515 - val_accuracy: 0.8838\n",
      "50/50 [==============================] - 11s 219ms/step - loss: 0.5515 - accuracy: 0.8838\n",
      "\n",
      "Test score: 0.5514606237411499\n",
      "Test accuracy: 0.883840024471283\n"
     ]
    }
   ],
   "source": [
    "(X_train, y_train), (X_test, y_test) = load_data()\n",
    "model=build_model()\n",
    "model.summary()\n",
    "\n",
    "model.compile(optimizer = \"adam\", loss = \"binary_crossentropy\",\n",
    " metrics = [\"accuracy\"]\n",
    ")\n",
    "\n",
    "score = model.fit(X_train, y_train,\n",
    " epochs= EPOCHS,\n",
    " batch_size = BATCH_SIZE,\n",
    " validation_data = (X_test, y_test)\n",
    ")\n",
    "\n",
    "score = model.evaluate(X_test, y_test, batch_size=BATCH_SIZE)\n",
    "print(\"\\nTest score:\", score[0])\n",
    "print('Test accuracy:', score[1])\n"
   ]
  },
  {
   "cell_type": "code",
   "execution_count": 9,
   "id": "528f73e8-5ed6-4af9-a55d-331e5510843b",
   "metadata": {},
   "outputs": [
    {
     "data": {
      "text/plain": [
       "array([1, 0, 0, 1, 0, 0, 1, 0, 1, 0], dtype=int64)"
      ]
     },
     "execution_count": 9,
     "metadata": {},
     "output_type": "execute_result"
    }
   ],
   "source": [
    "y_train[:10]"
   ]
  },
  {
   "cell_type": "code",
   "execution_count": 8,
   "id": "749cab2d-86db-429c-a73a-2ed71456493c",
   "metadata": {},
   "outputs": [
    {
     "data": {
      "text/plain": [
       "(25000, 200)"
      ]
     },
     "execution_count": 8,
     "metadata": {},
     "output_type": "execute_result"
    }
   ],
   "source": [
    "X_train.shape"
   ]
  },
  {
   "cell_type": "code",
   "execution_count": null,
   "id": "a584193e-8c21-4135-8895-0d0b3af3781e",
   "metadata": {},
   "outputs": [],
   "source": []
  }
 ],
 "metadata": {
  "kernelspec": {
   "display_name": "Python 3 (ipykernel)",
   "language": "python",
   "name": "python3"
  },
  "language_info": {
   "codemirror_mode": {
    "name": "ipython",
    "version": 3
   },
   "file_extension": ".py",
   "mimetype": "text/x-python",
   "name": "python",
   "nbconvert_exporter": "python",
   "pygments_lexer": "ipython3",
   "version": "3.9.7"
  }
 },
 "nbformat": 4,
 "nbformat_minor": 5
}
